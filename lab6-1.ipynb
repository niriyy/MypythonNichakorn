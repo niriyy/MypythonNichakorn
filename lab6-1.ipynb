{
 "cells": [
  {
   "cell_type": "code",
   "execution_count": 18,
   "metadata": {},
   "outputs": [
    {
     "name": "stdout",
     "output_type": "stream",
     "text": [
      "Hello World\n",
      "\n",
      "RRR\n"
     ]
    }
   ],
   "source": [
    "print (\"Hello World\")\n",
    "print (\"\\nRRR\")"
   ]
  },
  {
   "cell_type": "code",
   "execution_count": 17,
   "metadata": {},
   "outputs": [
    {
     "name": "stdout",
     "output_type": "stream",
     "text": [
      "\n",
      "RRRIII\n"
     ]
    }
   ],
   "source": [
    "print (\"\\nRRRIII\")\n",
    "v = 1.00\n",
    "cc = 1.22\n",
    "x = 10\n",
    "y = 30\n",
    "z = x+y\n",
    "a ={10,20,30,40,50}\n",
    "b =[60,70,80,90,100] \n",
    "c =(10,20,30,40,50)\n",
    "d = {\"nn\":\"S\",\"bb\":\"S\",\"aa\":\"S\",\"vv\":\"S\"}"
   ]
  }
 ],
 "metadata": {
  "kernelspec": {
   "display_name": "Python 3",
   "language": "python",
   "name": "python3"
  },
  "language_info": {
   "codemirror_mode": {
    "name": "ipython",
    "version": 3
   },
   "file_extension": ".py",
   "mimetype": "text/x-python",
   "name": "python",
   "nbconvert_exporter": "python",
   "pygments_lexer": "ipython3",
   "version": "3.12.4"
  }
 },
 "nbformat": 4,
 "nbformat_minor": 2
}
