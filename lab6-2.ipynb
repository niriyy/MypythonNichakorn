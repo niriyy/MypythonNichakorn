{
 "cells": [
  {
   "cell_type": "code",
   "execution_count": 4,
   "metadata": {},
   "outputs": [
    {
     "name": "stdout",
     "output_type": "stream",
     "text": [
      "ชื่อ: y\n",
      "เงินเดือน: 2000\n",
      "ค่าล่วงเวลา: 20\n",
      "เงินเดือนทั้งหมด: 4000\n"
     ]
    }
   ],
   "source": [
    "def sal(ss):\n",
    "    if (ss>40):\n",
    "        ms=ss*150\n",
    "    else:\n",
    "        ms=ss*100\n",
    "    return ms\n",
    "\n",
    "n = input(\"ชื่อ: \")\n",
    "s = int(input(\"เงินเดือนเท่าไร: \"))\n",
    "ss = int(input(\"ล่วงเวลาไปกี่ชั่วโมง:\"))\n",
    "sa = sal(ss) +s\n",
    "\n",
    "print(\"ชื่อ: %s\"%n)\n",
    "print(\"เงินเดือน: %d\"%s)\n",
    "print(\"ค่าล่วงเวลา: %d\"% ss)\n",
    "print(\"เงินเดือนทั้งหมด: %d\"% sa)\n",
    "\n"
   ]
  },
  {
   "cell_type": "code",
   "execution_count": 5,
   "metadata": {},
   "outputs": [],
   "source": [
    "def sar(name,sl,slm):\n",
    "    if(o>40):\n",
    "        o=o*150\n",
    "    else:\n",
    "        o=o*100\n",
    "\n"
   ]
  }
 ],
 "metadata": {
  "kernelspec": {
   "display_name": "Python 3",
   "language": "python",
   "name": "python3"
  },
  "language_info": {
   "codemirror_mode": {
    "name": "ipython",
    "version": 3
   },
   "file_extension": ".py",
   "mimetype": "text/x-python",
   "name": "python",
   "nbconvert_exporter": "python",
   "pygments_lexer": "ipython3",
   "version": "3.12.4"
  }
 },
 "nbformat": 4,
 "nbformat_minor": 2
}
